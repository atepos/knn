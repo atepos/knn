{
 "cells": [
  {
   "cell_type": "code",
   "execution_count": 1,
   "id": "ed218a48",
   "metadata": {},
   "outputs": [
    {
     "name": "stderr",
     "output_type": "stream",
     "text": [
      "Device set to use cuda:0\n"
     ]
    },
    {
     "name": "stdout",
     "output_type": "stream",
     "text": [
      "MAE: 1.1912\n",
      "MSE: 2.8935\n"
     ]
    }
   ],
   "source": [
    "from datasets import load_dataset\n",
    "\n",
    "# Preprocessing function\n",
    "def preprocess_dataset(row):\n",
    "    return {\n",
    "            \"prompt\": f\"Otázka: {row['questionText']}\\nOdpověď: {row['answerText']}\",\n",
    "            \"completion\": f\"{row['score']}\"\n",
    "    }\n",
    "\n",
    "# Načítání datasetu a jeho předzpracování\n",
    "# dataset = load_dataset(\"json\", data_files=\"data.json\")\n",
    "# dataset = load_dataset(\"json\", data_files=\"SUI_dataset_one_question.json\")\n",
    "dataset = load_dataset(\"json\", data_files=\"SUI_dataset.json\")\n",
    "# dataset = load_dataset(\"json\", data_files=\"data.json\")\n",
    "dataset = dataset.map(preprocess_dataset, remove_columns=dataset[\"train\"].column_names)\n",
    "# Rozdělení datasetu na trénovací a testovací část\n",
    "dataset = dataset[\"train\"].train_test_split(test_size=0.2, seed=42)\n",
    "\n",
    "from transformers import AutoTokenizer, AutoModelForCausalLM, BitsAndBytesConfig\n",
    "import torch\n",
    "\n",
    "\n",
    "# Načítání modelu s kvantizací\n",
    "bnb_config = BitsAndBytesConfig(\n",
    "    load_in_4bit=True,\n",
    "    bnb_4bit_use_double_quant=True,\n",
    "    bnb_4bit_quant_type=\"nf4\",\n",
    "    bnb_4bit_compute_dtype=torch.float16,\n",
    "    device_map=\"auto\"\n",
    ")\n",
    "\n",
    "\n",
    "# from transformers import AutoTokenizer, AutoModelForCausalLM\n",
    "# model = AutoModelForCausalLM.from_pretrained(OUTPUT_DIR, device_map=\"auto\", quantization_config=bnb_config)\n",
    "model = AutoModelForCausalLM.from_pretrained(\"results_BUT-FIT/Czech-GPT-2-XL-133k/checkpoint-4000\", device_map=\"auto\", quantization_config=bnb_config)\n",
    "tokenizer = AutoTokenizer.from_pretrained(\"results_BUT-FIT/Czech-GPT-2-XL-133k/checkpoint-4000\", padding_side='left')\n",
    "\n",
    "from transformers import pipeline\n",
    "\n",
    "pipe = pipeline(\"text-generation\", model=model, return_full_text=False, tokenizer=tokenizer, pad_token_id=tokenizer.eos_token_id, max_new_tokens=100)\n",
    "pipe.tokenizer.pad_token_id = model.config.eos_token_id\n",
    "\n",
    "from sklearn.metrics import mean_absolute_error, mean_squared_error\n",
    "from transformers.pipelines.pt_utils import KeyDataset\n",
    "from tqdm.auto import tqdm\n",
    "\n",
    "preds = []\n",
    "targets = []\n",
    "json_output = []\n",
    "\n",
    "with open(\"inference_results.txt\", \"w\") as f:\n",
    "    for i, (sample, out) in enumerate(zip(dataset[\"test\"], pipe(KeyDataset(dataset[\"test\"], \"prompt\"), batch_size=8))):\n",
    "        prompt = sample[\"prompt\"]\n",
    "        target_str = sample[\"completion\"]\n",
    "        output = out[0][\"generated_text\"]\n",
    "\n",
    "        try:\n",
    "            pred = float(output.strip())\n",
    "            target = float(target_str.strip())\n",
    "            preds.append(pred)\n",
    "            targets.append(target)\n",
    "            f.write(f\"[{i}] Prompt: {prompt}\\n\")\n",
    "            f.write(f\"[{i}] Target: {target}, Prediction: {pred}\\n\\n\")\n",
    "        except ValueError:\n",
    "            f.write(f\"[{i}] Failed to parse: pred='{output.strip()}', target='{target_str.strip()}'\\n\\n\")\n",
    "            continue\n",
    "        sample[\"pred\"] = pred\n",
    "        json_output.append(sample)\n",
    "\n",
    "    # Calculate metrics at the end\n",
    "    mae = mean_absolute_error(targets, preds)\n",
    "    mse = mean_squared_error(targets, preds)\n",
    "\n",
    "    f.write(\"Final Results:\\n\")\n",
    "    f.write(f\"MAE: {mae:.4f}\\n\")\n",
    "    f.write(f\"MSE: {mse:.4f}\\n\")\n",
    "\n",
    "print(f\"MAE: {mae:.4f}\")\n",
    "print(f\"MSE: {mse:.4f}\")\n",
    "import json\n",
    "with open(\"inference_results.json\", \"w\") as f:\n",
    "    json.dump(json_output, f, indent=4)"
   ]
  }
 ],
 "metadata": {
  "kernelspec": {
   "display_name": ".venv",
   "language": "python",
   "name": "python3"
  },
  "language_info": {
   "codemirror_mode": {
    "name": "ipython",
    "version": 3
   },
   "file_extension": ".py",
   "mimetype": "text/x-python",
   "name": "python",
   "nbconvert_exporter": "python",
   "pygments_lexer": "ipython3",
   "version": "3.10.12"
  }
 },
 "nbformat": 4,
 "nbformat_minor": 5
}
