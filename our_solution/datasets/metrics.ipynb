{
 "cells": [
  {
   "cell_type": "code",
   "execution_count": 1,
   "metadata": {},
   "outputs": [],
   "source": [
    "import os\n",
    "import json\n",
    "import pandas as pd\n",
    "import matplotlib.pyplot as plt\n",
    "import seaborn as sns\n",
    "from matplotlib.backends.backend_pdf import PdfPages\n",
    "\n",
    "# Folder containing JSON files\n",
    "data_folder = \"parsed\"\n",
    "\n",
    "with PdfPages('datasets_metrics.pdf') as pdf:\n",
    "    for file in os.listdir(data_folder):\n",
    "        if file.endswith(\".json\"):\n",
    "            with open(os.path.join(data_folder, file), \"r\", encoding=\"utf-8\") as f:\n",
    "                data = json.load(f)\n",
    "            \n",
    "            df = pd.DataFrame(data)\n",
    "            \n",
    "            question_counts = df[\"questionNumber\"].value_counts().sort_index()\n",
    "            \n",
    "            average_scores = df.groupby(\"questionNumber\")[\"score\"].mean()\n",
    "            \n",
    "            # Plot response count\n",
    "            plt.figure(figsize=(10, 5))\n",
    "            sns.barplot(x=question_counts.index, y=question_counts.values)\n",
    "            plt.xlabel(\"Question Number\")\n",
    "            plt.ylabel(\"Number of Responses\")\n",
    "            plt.title(f\"Number of Responses per Question - {file}\")\n",
    "            plt.xticks(rotation=45)\n",
    "            pdf.savefig()  # Save the plot to the PDF\n",
    "            plt.close()\n",
    "\n",
    "            # Plot score distribution per question\n",
    "            plt.figure(figsize=(12, 6))\n",
    "            sns.boxplot(x=df[\"questionNumber\"], y=df[\"score\"])\n",
    "            plt.xlabel(\"Question Number\")\n",
    "            plt.ylabel(\"Score\")\n",
    "            plt.title(f\"Score Distribution per Question - {file}\")\n",
    "            plt.xticks(rotation=45)\n",
    "            pdf.savefig()  # Save the plot to the PDF\n",
    "            plt.close()\n",
    "\n",
    "            # Plot average score per question\n",
    "            plt.figure(figsize=(10, 5))\n",
    "            sns.barplot(x=average_scores.index, y=average_scores.values)\n",
    "            plt.xlabel(\"Question Number\")\n",
    "            plt.ylabel(\"Average Score\")\n",
    "            plt.title(f\"Average Score per Question - {file}\")\n",
    "            plt.xticks(rotation=45)\n",
    "            pdf.savefig()  # Save the plot to the PDF\n",
    "            plt.close()\n"
   ]
  }
 ],
 "metadata": {
  "kernelspec": {
   "display_name": "Python 3",
   "language": "python",
   "name": "python3"
  },
  "language_info": {
   "codemirror_mode": {
    "name": "ipython",
    "version": 3
   },
   "file_extension": ".py",
   "mimetype": "text/x-python",
   "name": "python",
   "nbconvert_exporter": "python",
   "pygments_lexer": "ipython3",
   "version": "3.10.12"
  }
 },
 "nbformat": 4,
 "nbformat_minor": 2
}
