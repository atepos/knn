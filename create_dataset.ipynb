{
 "cells": [
  {
   "cell_type": "code",
   "execution_count": 14,
   "metadata": {},
   "outputs": [
    {
     "name": "stdout",
     "output_type": "stream",
     "text": [
      "Processed 2021_1_A.yaml -> datasets/parsed/2021_1_A.json\n",
      "Processed 2022_3.yaml -> datasets/parsed/2022_3.json\n",
      "Processed 2022_1_A.yaml -> datasets/parsed/2022_1_A.json\n",
      "Processed 2021_1_B.yaml -> datasets/parsed/2021_1_B.json\n",
      "Processed 2022_1_B.yaml -> datasets/parsed/2022_1_B.json\n",
      "Processed 2022_2.yaml -> datasets/parsed/2022_2.json\n",
      "Processed 2021_2.yaml -> datasets/parsed/2021_2.json\n"
     ]
    }
   ],
   "source": [
    "import os\n",
    "import yaml\n",
    "import json\n",
    "\n",
    "def filter_and_convert_to_floats(lst):\n",
    "    return [float(x) for x in lst if is_number(x)]\n",
    "\n",
    "def is_number(value):\n",
    "    try:\n",
    "        float(value)\n",
    "        return True\n",
    "    except ValueError:\n",
    "        return False\n",
    "\n",
    "def get_points(data):\n",
    "    result = {}\n",
    "    for key, value in data.items():\n",
    "        if \"login\" in value and \"points\" in value:\n",
    "            numeric_points = filter_and_convert_to_floats(value[\"points\"])\n",
    "            if len(numeric_points) < 14:\n",
    "                numeric_points.extend([0.0] * (14 - len(numeric_points)))\n",
    "            result[value[\"login\"]] = numeric_points\n",
    "    return result\n",
    "\n",
    "def get_dataset(data, points):\n",
    "    result = []\n",
    "    for key, value in data.items():\n",
    "        for idx, question in value[\"questions\"].items():\n",
    "            item = {\n",
    "                \"questionNumber\": idx + 1,\n",
    "                \"questionText\": question,\n",
    "                \"answerTest\": value[\"answers\"][idx],\n",
    "                \"score\": points[value[\"login\"]][idx],\n",
    "            }\n",
    "            result.append(item)\n",
    "    return result\n",
    "\n",
    "def process_yaml_files(input_dir, output_dir):\n",
    "    os.makedirs(output_dir, exist_ok=True)\n",
    "    \n",
    "    for filename in os.listdir(input_dir):\n",
    "        if filename.endswith(\".yaml\"):\n",
    "            input_path = os.path.join(input_dir, filename)\n",
    "            output_path = os.path.join(output_dir, filename.replace(\".yaml\", \".json\"))\n",
    "            \n",
    "            with open(input_path, \"r\", encoding=\"utf-8\") as file:\n",
    "                data = yaml.safe_load(file)\n",
    "            \n",
    "            result = get_dataset(data, get_points(data))\n",
    "            \n",
    "            with open(output_path, \"w\", encoding=\"utf8\") as f:\n",
    "                json.dump(result, f, ensure_ascii=False, indent=4)\n",
    "            \n",
    "            print(f\"Processed {filename} -> {output_path}\")\n",
    "\n",
    "input_directory = \"datasets/raw\"\n",
    "output_directory = \"datasets/parsed\"\n",
    "process_yaml_files(input_directory, output_directory)"
   ]
  }
 ],
 "metadata": {
  "kernelspec": {
   "display_name": "Python 3",
   "language": "python",
   "name": "python3"
  },
  "language_info": {
   "codemirror_mode": {
    "name": "ipython",
    "version": 3
   },
   "file_extension": ".py",
   "mimetype": "text/x-python",
   "name": "python",
   "nbconvert_exporter": "python",
   "pygments_lexer": "ipython3",
   "version": "3.10.12"
  }
 },
 "nbformat": 4,
 "nbformat_minor": 2
}
